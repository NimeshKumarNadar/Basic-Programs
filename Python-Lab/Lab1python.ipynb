{
 "cells": [
  {
   "cell_type": "code",
   "execution_count": 2,
   "id": "3a679d0a",
   "metadata": {},
   "outputs": [
    {
     "name": "stdout",
     "output_type": "stream",
     "text": [
      "Enter score 32\n",
      "Grade : F\n"
     ]
    }
   ],
   "source": [
    "#grading program\n",
    "score = eval(input('Enter score '))\n",
    "if (score>=90.0) :\n",
    "    print('Grade : S')\n",
    "elif (score>=80.0) :\n",
    "    print('Grade : A')\n",
    "elif (score>=70.0) :\n",
    "    print('Grade : B')\n",
    "elif (score>=60.0) :\n",
    "    print('Grade : C')\n",
    "elif (score>=50.0) :\n",
    "    print('Grade : D')\n",
    "elif (score>=40.0) :\n",
    "    print('Grade : E')\n",
    "else :\n",
    "    print('Grade : F')"
   ]
  },
  {
   "cell_type": "code",
   "execution_count": null,
   "id": "76fba9a6",
   "metadata": {},
   "outputs": [
    {
     "name": "stdout",
     "output_type": "stream",
     "text": [
      "Quadratic equation of the form ax² - by² + c\n",
      "Enter values for a, b, c : \n"
     ]
    }
   ],
   "source": [
    "#find roots of a quadratic equation\n",
    "\n",
    "import math\n",
    "\n",
    "print('Quadratic equation of the form ax\\u00b2 - by\\u00b2 + c\\nEnter values for a, b, c : ')\n",
    "a = eval(input('a = '))\n",
    "b = eval(input('b = '))\n",
    "b=-b\n",
    "c = eval(input('c = '))\n",
    "discriminant = (b*b)-(4*a*c)\n",
    "if (discriminant<0) :\n",
    "    print('No real roots for the equation')\n",
    "elif (discriminant==0) :\n",
    "    root = (-b/(2*a))\n",
    "    print('One root : ')\n",
    "    print(root)\n",
    "else :\n",
    "    root1 = (-b+math.sqrt(discriminant))/(2*a)\n",
    "    root2 = (-b-math.sqrt(discriminant))/(2*a)\n",
    "    print('Two real roots : ')\n",
    "    print(root1)\n",
    "    print(root2)"
   ]
  },
  {
   "cell_type": "code",
   "execution_count": null,
   "id": "580554a2",
   "metadata": {},
   "outputs": [
    {
     "name": "stdout",
     "output_type": "stream",
     "text": [
      "Two equations of the form a₁x + b₁y = c₁ and a₂x + b₂y = c₂\n"
     ]
    }
   ],
   "source": [
    "#find solution of two simultaneous equations\n",
    "print('Two equations of the form a\\u2081x + b\\u2081y = c\\u2081 and a\\u2082x + b\\u2082y = c\\u2082')\n",
    "a1 = eval(input('a1 = '))\n",
    "b1 = eval(input('b1 = '))\n",
    "c1 = eval(input('c1 = '))\n",
    "a2 = eval(input('a2 = '))\n",
    "b2 = eval(input('b2 = '))\n",
    "c2 = eval(input('c2 = '))\n",
    "print('Equation 1 : ',a1,'x +',b1,'y =',c1)\n",
    "print('Equation 2 : ',a2,'x +',b2,'y =',c2)\n",
    "x = ((b1*c2)-(b2*c1))/((a1*b2)-(a2*b1))\n",
    "y = ((a2*c1)-(a1*c2))/((a1*b2)-(a2*b1))\n",
    "print('x = ',-x)\n",
    "print('y = ',-y)"
   ]
  },
  {
   "cell_type": "code",
   "execution_count": 5,
   "id": "8b3f507f",
   "metadata": {},
   "outputs": [
    {
     "name": "stdout",
     "output_type": "stream",
     "text": [
      "Three homogeneous equations of the form a₁x + b₁y + c₁z = 0, a₂x + b₂y + c₂z = 0 and a₃x + b₃y + c₃z = 0\n",
      "a1 = 1\n",
      "b1 = 2\n",
      "c1 = 3\n",
      "a2 = 4\n",
      "b2 = 5\n",
      "c2 = 6\n",
      "a3 = 7\n",
      "b3 = 8\n",
      "c3 = 9\n",
      "Equation 1 :  1 x + 2 y + 3 z = 0\n",
      "Equation 2 :  4 x + 5 y + 6 z = 0\n",
      "Equation 3 :  7 x + 8 y + 9 z = 0\n"
     ]
    }
   ],
   "source": [
    "#find solution of three simultaneous homogeneous equations\n",
    "print('Three homogeneous equations of the form a\\u2081x + b\\u2081y + c\\u2081z = 0, a\\u2082x + b\\u2082y + c\\u2082z = 0 and a\\u2083x + b\\u2083y + c\\u2083z = 0')\n",
    "a1 = eval(input('a1 = '))\n",
    "b1 = eval(input('b1 = '))\n",
    "c1 = eval(input('c1 = '))\n",
    "a2 = eval(input('a2 = '))\n",
    "b2 = eval(input('b2 = '))\n",
    "c2 = eval(input('c2 = '))\n",
    "a3 = eval(input('a3 = '))\n",
    "b3 = eval(input('b3 = '))\n",
    "c3 = eval(input('c3 = '))\n",
    "print('Equation 1 : ',a1,'x +',b1,'y +',c1,'z = 0')\n",
    "print('Equation 2 : ',a2,'x +',b2,'y +',c2,'z = 0')\n",
    "print('Equation 3 : ',a3,'x +',b3,'y +',c3,'z = 0')\n",
    "a= ((b1*c2)-(b2*c1))\n",
    "b= ((a1*c2)-(a2*c1))\n",
    "c= ((a1*b2)-(a2*b1))\n",
    "#print('x = ',-x)\n",
    "#print('y = ',-y)\n",
    "#print('z = ',-z)"
   ]
  },
  {
   "cell_type": "code",
   "execution_count": 2,
   "id": "8f046809",
   "metadata": {},
   "outputs": [
    {
     "name": "stdout",
     "output_type": "stream",
     "text": [
      "Three non-homogeneous equations of the form a₁x + b₁y + c₁z = d₁, a₂x + b₂y + c₂z = d₂ and a₃x + b₃y + c₃z = d₃\n",
      "a1 = 5\n",
      "b1 = 6\n",
      "c1 = 44\n",
      "d1 = 3\n",
      "a2 = 3\n",
      "b2 = 2\n",
      "c2 = 5\n",
      "d2 = 9\n",
      "a3 = 6\n",
      "b3 = 4\n",
      "c3 = 58\n",
      "d3 = 33\n",
      "Equation 1 :  5 x + 6 y + 44 z = 3\n",
      "Equation 2 :  3 x + 2 y + 5 z = 9\n",
      "Equation 3 :  6 x + 4 y + 58 z = 33\n",
      "x =  -0.12098298676748583\n",
      "y =  0.1152115211521152\n",
      "z =  -3.2\n"
     ]
    }
   ],
   "source": [
    "#find solution of three simultaneous non-homogeneous equations\n",
    "print('Three non-homogeneous equations of the form a\\u2081x + b\\u2081y + c\\u2081z = d\\u2081, a\\u2082x + b\\u2082y + c\\u2082z = d\\u2082 and a\\u2083x + b\\u2083y + c\\u2083z = d\\u2083')\n",
    "a1 = eval(input('a1 = '))\n",
    "b1 = eval(input('b1 = '))\n",
    "c1 = eval(input('c1 = '))\n",
    "d1 = eval(input('d1 = '))\n",
    "a2 = eval(input('a2 = '))\n",
    "b2 = eval(input('b2 = '))\n",
    "c2 = eval(input('c2 = '))\n",
    "d2 = eval(input('d2 = '))\n",
    "a3 = eval(input('a3 = '))\n",
    "b3 = eval(input('b3 = '))\n",
    "c3 = eval(input('c3 = '))\n",
    "d3 = eval(input('d3 = '))\n",
    "print('Equation 1 : ',a1,'x +',b1,'y +',c1,'z =',d1)\n",
    "print('Equation 2 : ',a2,'x +',b2,'y +',c2,'z =',d2)\n",
    "print('Equation 3 : ',a3,'x +',b3,'y +',c3,'z =',d3)\n",
    "d= ((a1*((b2*c3)-(b3*c2)))-(b1*((a2*c3)-(a3*c2)))+(c1*((a2*b3)-(a3*b2))))\n",
    "dx= ((d1*((b2*c3)-(b3*c2)))-(b1*((d2*c3)-(d3*c2)))+(c1*((d2*b3)-(d3*b2))))\n",
    "dy= ((a1*((d2*c3)-(d3*c2)))-(d1*((a2*c3)-(a3*c2)))+(c1*((a2*d3)-(a3*d2))))\n",
    "dz= ((a1*((b2*d3)-(b3*d2)))-(b1*((a2*d3)-(a3*d2)))+(d1*((a2*b3)-(a3*b2))))\n",
    "print('x = ',-(d/dx))\n",
    "print('y = ',-(d/dy))\n",
    "print('z = ',-(d/dz))"
   ]
  },
  {
   "cell_type": "markdown",
   "id": "d46a42fa",
   "metadata": {},
   "source": [
    "write a program, the user enter a point (x,y) and checks whether the point is within the circle centered at origin (0,0)\n",
    "with radius 10\n",
    "for example : (4,5) is inside the circle\n",
    "    (9,9) is outside of the circle"
   ]
  },
  {
   "cell_type": "code",
   "execution_count": 5,
   "id": "c1dbf66a",
   "metadata": {},
   "outputs": [
    {
     "name": "stdout",
     "output_type": "stream",
     "text": [
      "Enter x co-ordinate of the point 9\n",
      "Enter y co-ordinate of the point 9\n",
      "Outside the circle\n"
     ]
    }
   ],
   "source": [
    "point_x = eval(input('Enter x co-ordinate of the point '))\n",
    "point_y = eval(input('Enter y co-ordinate of the point '))\n",
    "if(((point_x*point_x)+(point_y*point_y)-100)<0):\n",
    "    print('Inside the circle')\n",
    "elif(((point_x*point_x)+(point_y*point_y)-100)==0):\n",
    "    print('On the circle')\n",
    "else:\n",
    "    print('Outside the circle')"
   ]
  }
 ],
 "metadata": {
  "kernelspec": {
   "display_name": "Python 3 (ipykernel)",
   "language": "python",
   "name": "python3"
  },
  "language_info": {
   "codemirror_mode": {
    "name": "ipython",
    "version": 3
   },
   "file_extension": ".py",
   "mimetype": "text/x-python",
   "name": "python",
   "nbconvert_exporter": "python",
   "pygments_lexer": "ipython3",
   "version": "3.9.12"
  }
 },
 "nbformat": 4,
 "nbformat_minor": 5
}
