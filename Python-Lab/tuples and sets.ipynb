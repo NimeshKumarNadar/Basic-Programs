{
 "cells": [
  {
   "cell_type": "markdown",
   "id": "abfb59fc",
   "metadata": {},
   "source": [
    "TUPLES"
   ]
  },
  {
   "cell_type": "code",
   "execution_count": 43,
   "id": "537eb649",
   "metadata": {},
   "outputs": [
    {
     "name": "stdout",
     "output_type": "stream",
     "text": [
      "<class 'tuple'>\n",
      "(1, 2, 3, 4, 5, 4, 5, 6, 7, 8)\n",
      "False\n",
      "True\n",
      "[1, 2, 3, 4, 4, 5, 5, 6, 7, 8]\n",
      "5 7 9 11 13 "
     ]
    }
   ],
   "source": [
    "t1= (1,2,3,4,5)\n",
    "t2= (4,5,6,7,8)\n",
    "print(type(t1))\n",
    "print(t1+t2)\n",
    "print(t1>t2)\n",
    "print(t1<t2)\n",
    "print(sorted(t1+t2))\n",
    "\n",
    "for i in range(len(t1)):\n",
    "    print(t1[i]+t2[i],end=\" \")"
   ]
  },
  {
   "cell_type": "markdown",
   "id": "33f34a2e",
   "metadata": {},
   "source": [
    "SETS"
   ]
  },
  {
   "cell_type": "code",
   "execution_count": 61,
   "id": "70145519",
   "metadata": {},
   "outputs": [
    {
     "name": "stdout",
     "output_type": "stream",
     "text": [
      "<class 'set'>\n",
      "{1, 2, 3, 4, 5, 6, 7, 8}\n",
      "{4, 5}\n",
      "False\n",
      "False\n",
      "[4, 5, 6, 7, 8]\n",
      "{1, 2, 3}\n",
      "{8, 6, 7}\n",
      "{1, 2, 3, 6, 7, 8}\n",
      "{8, 9, 6, 7}\n",
      "{1, 2, 3, 9}\n",
      "{1, 2, 3, 6, 7, 8, 9}\n",
      "{1, 2, 3, 6, 7, 8, 9}\n",
      "{9}\n",
      "{9}\n"
     ]
    }
   ],
   "source": [
    "universal={1,2,3,4,5,6,7,8,9} #universal set\n",
    "s1= {1,2,3,4,5}\n",
    "s2= {4,5,7,6,8}\n",
    "print(type(s1))\n",
    "print(s1.union(s2)) #union of two sets\n",
    "print(s1.intersection(s2)) #intersection of two sets\n",
    "print(s1>s2)\n",
    "print(s1<s2)\n",
    "print(sorted(s2))\n",
    "#Symmetric difference and difference of two sets\n",
    "print(s1-s2)\n",
    "print(s2-s1)\n",
    "print((s1.union(s2))-s1.intersection(s2))\n",
    "#complement\n",
    "complement_s1 = universal-s1;\n",
    "complement_s2= universal-s2;\n",
    "print(complement_s1)\n",
    "print(complement_s2)\n",
    "#DeMorgan's Law\n",
    "demorgan_LHS = universal - s1.intersection(s2)\n",
    "demorgan_RHS = complement_s1.union(complement_s2)\n",
    "print(demorgan_LHS)\n",
    "print(demorgan_RHS)\n",
    "#DeMorgan's Law\n",
    "demorgan2_LHS = universal - s1.union(s2)\n",
    "demorgan2_RHS = complement_s1.intersection(complement_s2)\n",
    "print(demorgan2_LHS)\n",
    "print(demorgan2_RHS)"
   ]
  },
  {
   "cell_type": "code",
   "execution_count": 56,
   "id": "4f0a3935",
   "metadata": {},
   "outputs": [
    {
     "name": "stdout",
     "output_type": "stream",
     "text": [
      "1\n",
      "2\n",
      "3\n",
      "4\n",
      "5\n",
      "{1, 2, 3, 4, 5}\n",
      "<class 'set'>\n"
     ]
    }
   ],
   "source": [
    "#user input data\n",
    "s1={0}\n",
    "i=5\n",
    "while(i):\n",
    "    s1.add(int(input()))\n",
    "    i-=1\n",
    "s1=s1-{0}\n",
    "print(s1)\n",
    "print(type(s1))\n"
   ]
  }
 ],
 "metadata": {
  "kernelspec": {
   "display_name": "Python 3 (ipykernel)",
   "language": "python",
   "name": "python3"
  },
  "language_info": {
   "codemirror_mode": {
    "name": "ipython",
    "version": 3
   },
   "file_extension": ".py",
   "mimetype": "text/x-python",
   "name": "python",
   "nbconvert_exporter": "python",
   "pygments_lexer": "ipython3",
   "version": "3.9.12"
  }
 },
 "nbformat": 4,
 "nbformat_minor": 5
}
