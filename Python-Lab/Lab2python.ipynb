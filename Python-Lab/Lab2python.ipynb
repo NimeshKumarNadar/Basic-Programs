{
 "cells": [
  {
   "cell_type": "code",
   "execution_count": 24,
   "id": "52f95612",
   "metadata": {},
   "outputs": [
    {
     "name": "stdout",
     "output_type": "stream",
     "text": [
      "Enter no. of lines : 6\n",
      "1 \n",
      "\n",
      "1 2 \n",
      "\n",
      "1 2 3 \n",
      "\n",
      "1 2 3 4 \n",
      "\n",
      "1 2 3 4 5 \n",
      "\n",
      "1 2 3 4 5 6 \n",
      "\n"
     ]
    }
   ],
   "source": [
    "lines = int(input(\"Enter no. of lines : \"))\n",
    "for i in range(1,lines+1):\n",
    "    for j in range(i):\n",
    "        print(j+1,end=' ')\n",
    "    print(\"\\n\")"
   ]
  },
  {
   "cell_type": "code",
   "execution_count": 25,
   "id": "630802ec",
   "metadata": {},
   "outputs": [
    {
     "name": "stdout",
     "output_type": "stream",
     "text": [
      "Enter no. of lines : 7\n",
      "1 2 3 4 5 6 7 \n",
      "\n",
      "1 2 3 4 5 6 \n",
      "\n",
      "1 2 3 4 5 \n",
      "\n",
      "1 2 3 4 \n",
      "\n",
      "1 2 3 \n",
      "\n",
      "1 2 \n",
      "\n",
      "1 \n",
      "\n"
     ]
    }
   ],
   "source": [
    "lines = int(input(\"Enter no. of lines : \"))\n",
    "for i in range(1,lines+1):\n",
    "    for j in range(1,lines+2-i):\n",
    "        print(j,end=' ')\n",
    "    print(\"\\n\")"
   ]
  },
  {
   "cell_type": "code",
   "execution_count": 26,
   "id": "741270a8",
   "metadata": {},
   "outputs": [
    {
     "name": "stdout",
     "output_type": "stream",
     "text": [
      "Enter no. of lines : 4\n",
      "      1 \n",
      "\n",
      "    2 1 \n",
      "\n",
      "  3 2 1 \n",
      "\n",
      "4 3 2 1 \n",
      "\n"
     ]
    }
   ],
   "source": [
    "lines = int(input(\"Enter no. of lines : \"))\n",
    "x=' '\n",
    "for i in range(1,lines+1):\n",
    "    for j in range(i,lines):\n",
    "        print(x,end=' ')\n",
    "    for k in range(i,0,-1):\n",
    "        print(k,end=' ')\n",
    "    print(\"\\n\")"
   ]
  },
  {
   "cell_type": "code",
   "execution_count": 27,
   "id": "3a94a966",
   "metadata": {},
   "outputs": [
    {
     "name": "stdout",
     "output_type": "stream",
     "text": [
      "Enter no. of lines : 5\n",
      "5 4 3 2 1 \n",
      "\n",
      "  4 3 2 1 \n",
      "\n",
      "    3 2 1 \n",
      "\n",
      "      2 1 \n",
      "\n",
      "        1 \n",
      "\n"
     ]
    }
   ],
   "source": [
    "lines = int(input(\"Enter no. of lines : \"))\n",
    "x=' '\n",
    "for i in range(1,lines+1):\n",
    "    for j in range(1,i):\n",
    "        print(x,end=' ')\n",
    "    for k in range(lines-i+1,0,-1):\n",
    "        print(k,end=' ')\n",
    "    print(\"\\n\")"
   ]
  },
  {
   "cell_type": "code",
   "execution_count": 40,
   "id": "75b4060f",
   "metadata": {},
   "outputs": [
    {
     "name": "stdout",
     "output_type": "stream",
     "text": [
      "Enter no. of lines : 8\n",
      "1 \n",
      "\n",
      "2 3 \n",
      "\n",
      "4 5 6 \n",
      "\n",
      "7 8 9 10 \n",
      "\n",
      "11 12 13 14 15 \n",
      "\n",
      "16 17 18 19 20 21 \n",
      "\n",
      "22 23 24 25 26 27 28 \n",
      "\n",
      "29 30 31 32 33 34 35 36 \n",
      "\n"
     ]
    }
   ],
   "source": [
    "lines = int(input(\"Enter no. of lines : \"))\n",
    "x=1\n",
    "for i in range(1,lines+1):\n",
    "    for j in range(i):\n",
    "        print(x,end=' ')\n",
    "        x+=1\n",
    "    print(\"\\n\")"
   ]
  },
  {
   "cell_type": "code",
   "execution_count": 41,
   "id": "74f07bdc",
   "metadata": {},
   "outputs": [
    {
     "name": "stdout",
     "output_type": "stream",
     "text": [
      "Enter no. of lines of pascal triangle: 6\n",
      "     1 1 \n",
      "\n",
      "    1 2 1 \n",
      "\n",
      "   1 3 3 1 \n",
      "\n",
      "  1 4 6 4 1 \n",
      "\n",
      " 1 5 10 10 5 1 \n",
      "\n",
      "1 6 15 20 15 6 1 \n",
      "\n"
     ]
    }
   ],
   "source": [
    "def factorial(n):\n",
    "    f=1\n",
    "    if(n==0):\n",
    "        return 1\n",
    "    else:\n",
    "        for i in range(n,1,-1):\n",
    "            f*=i\n",
    "        return f\n",
    "lines = int(input(\"Enter no. of lines of pascal triangle: \"))\n",
    "x=''\n",
    "for i in range(1,lines+1):\n",
    "    for j in range(lines-i+1,1,-1):\n",
    "        print(x,end=' ')\n",
    "    for k in range(0,i+1):\n",
    "        val = int(factorial(i)/(factorial(k)*factorial(i-k)))\n",
    "        print(val,end=' ')\n",
    "    print(\"\\n\")"
   ]
  },
  {
   "cell_type": "code",
   "execution_count": 46,
   "id": "51de231a",
   "metadata": {},
   "outputs": [
    {
     "name": "stdout",
     "output_type": "stream",
     "text": [
      "Prime numbers between 2 and 1000 are : \n",
      "2 3 5 7 11 13 17 19 23 29 31 37 41 43 47 53 59 61 67 71 73 79 83 89 97 101 103 107 109 113 127 131 137 139 149 151 157 163 167 173 179 181 191 193 197 199 211 223 227 229 233 239 241 251 257 263 269 271 277 281 283 293 307 311 313 317 331 337 347 349 353 359 367 373 379 383 389 397 401 409 419 421 431 433 439 443 449 457 461 463 467 479 487 491 499 503 509 521 523 541 547 557 563 569 571 577 587 593 599 601 607 613 617 619 631 641 643 647 653 659 661 673 677 683 691 701 709 719 727 733 739 743 751 757 761 769 773 787 797 809 811 821 823 827 829 839 853 857 859 863 877 881 883 887 907 911 919 929 937 941 947 953 967 971 977 983 991 997 "
     ]
    }
   ],
   "source": [
    "print(\"Prime numbers between 2 and 1000 are : \")\n",
    "for i in range(2,1000):\n",
    "    factor_count=0;\n",
    "    for j in range(2,int(i/2)+1):\n",
    "        if(i%j==0):\n",
    "            factor_count+=1;\n",
    "    if(factor_count==0):\n",
    "        print(i,end=\" \")"
   ]
  },
  {
   "cell_type": "code",
   "execution_count": 55,
   "id": "8e8e549e",
   "metadata": {},
   "outputs": [
    {
     "name": "stdout",
     "output_type": "stream",
     "text": [
      "First number : 64\n",
      "Second number : 28\n",
      "GCD :  4\n"
     ]
    }
   ],
   "source": [
    "n1=int(input(\"First number : \"))\n",
    "n2=int(input(\"Second number : \"))\n",
    "if(n1<n2):\n",
    "    smaller=n1\n",
    "else:\n",
    "    smaller=n2\n",
    "for i in range(1,smaller+1):\n",
    "    if(n1%i==0 and n2%i==0):\n",
    "        divisor=i;\n",
    "print(\"GCD : \",divisor);"
   ]
  },
  {
   "cell_type": "code",
   "execution_count": 53,
   "id": "b8acd716",
   "metadata": {},
   "outputs": [
    {
     "name": "stdout",
     "output_type": "stream",
     "text": [
      "Number : 36\n",
      "1 2 3 4 6 9 12 18 36 \n",
      "Total factors =  9\n"
     ]
    }
   ],
   "source": [
    "n=int(input(\"Number : \"))\n",
    "count=0\n",
    "for i in range(1,int(n/2)+1):\n",
    "    if(n%i==0):\n",
    "        print(i,end=\" \");\n",
    "        count+=1\n",
    "print(n,\"\\nTotal factors = \",count+1)"
   ]
  }
 ],
 "metadata": {
  "kernelspec": {
   "display_name": "Python 3 (ipykernel)",
   "language": "python",
   "name": "python3"
  },
  "language_info": {
   "codemirror_mode": {
    "name": "ipython",
    "version": 3
   },
   "file_extension": ".py",
   "mimetype": "text/x-python",
   "name": "python",
   "nbconvert_exporter": "python",
   "pygments_lexer": "ipython3",
   "version": "3.9.12"
  }
 },
 "nbformat": 4,
 "nbformat_minor": 5
}
